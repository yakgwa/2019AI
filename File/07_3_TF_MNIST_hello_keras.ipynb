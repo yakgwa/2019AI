{
  "nbformat": 4,
  "nbformat_minor": 0,
  "metadata": {
    "colab": {
      "name": "07_3_TF_MNIST_hello_keras.ipynb의 사본",
      "version": "0.3.2",
      "provenance": [],
      "collapsed_sections": []
    },
    "kernelspec": {
      "name": "python3",
      "display_name": "Python 3"
    }
  },
  "cells": [
    {
      "cell_type": "code",
      "metadata": {
        "id": "W1e5h7-Y6kEM",
        "colab_type": "code",
        "colab": {}
      },
      "source": [
        "import tensorflow as tf\n",
        "mnist = tf.keras.datasets.mnist"
      ],
      "execution_count": 0,
      "outputs": []
    },
    {
      "cell_type": "code",
      "metadata": {
        "id": "dQZwiMnL6ueC",
        "colab_type": "code",
        "colab": {}
      },
      "source": [
        "(x_train, y_train),(x_test, y_test) = mnist.load_data()\n",
        "x_train, x_test = x_train / 255.0, x_test / 255.0"
      ],
      "execution_count": 0,
      "outputs": []
    },
    {
      "cell_type": "code",
      "metadata": {
        "id": "ANEKq3-w6yaA",
        "colab_type": "code",
        "colab": {}
      },
      "source": [
        "model = tf.keras.models.Sequential([\n",
        "  tf.keras.layers.Flatten(input_shape=(28, 28)),\n",
        "  #tf.keras.layers.Dense(512, activation=tf.nn.relu),\n",
        "  \n",
        "  tf.keras.layers.Dense(10, activation=tf.nn.softmax)\n",
        "])\n",
        "model.compile(optimizer='adam',\n",
        "              loss='sparse_categorical_crossentropy',\n",
        "              metrics=['accuracy'])\n"
      ],
      "execution_count": 0,
      "outputs": []
    },
    {
      "cell_type": "code",
      "metadata": {
        "id": "n1WeEb6Z6wLN",
        "colab_type": "code",
        "outputId": "0f692ba5-4bd7-4cf0-c9a4-c0417b43c5cf",
        "colab": {
          "base_uri": "https://localhost:8080/",
          "height": 213
        }
      },
      "source": [
        "\n",
        "model.fit(x_train, y_train, epochs=5)\n"
      ],
      "execution_count": 0,
      "outputs": [
        {
          "output_type": "stream",
          "text": [
            "Epoch 1/5\n",
            "60000/60000 [==============================] - 3s 47us/sample - loss: 0.4709 - acc: 0.8763\n",
            "Epoch 2/5\n",
            "60000/60000 [==============================] - 3s 46us/sample - loss: 0.3039 - acc: 0.9153\n",
            "Epoch 3/5\n",
            "60000/60000 [==============================] - 3s 45us/sample - loss: 0.2833 - acc: 0.9208\n",
            "Epoch 4/5\n",
            "60000/60000 [==============================] - 3s 46us/sample - loss: 0.2730 - acc: 0.9236\n",
            "Epoch 5/5\n",
            "60000/60000 [==============================] - 3s 45us/sample - loss: 0.2667 - acc: 0.9258\n"
          ],
          "name": "stdout"
        },
        {
          "output_type": "execute_result",
          "data": {
            "text/plain": [
              "<tensorflow.python.keras.callbacks.History at 0x7faa52536400>"
            ]
          },
          "metadata": {
            "tags": []
          },
          "execution_count": 9
        }
      ]
    },
    {
      "cell_type": "code",
      "metadata": {
        "id": "H4pBTMpH9kb6",
        "colab_type": "code",
        "outputId": "e2e924cb-3600-4e3d-d659-3ca859943e08",
        "colab": {
          "base_uri": "https://localhost:8080/",
          "height": 52
        }
      },
      "source": [
        "model.evaluate(x_test, y_test)"
      ],
      "execution_count": 0,
      "outputs": [
        {
          "output_type": "stream",
          "text": [
            "10000/10000 [==============================] - 0s 32us/sample - loss: 0.2646 - acc: 0.9272\n"
          ],
          "name": "stdout"
        },
        {
          "output_type": "execute_result",
          "data": {
            "text/plain": [
              "[0.2645873116701841, 0.9272]"
            ]
          },
          "metadata": {
            "tags": []
          },
          "execution_count": 10
        }
      ]
    },
    {
      "cell_type": "markdown",
      "metadata": {
        "id": "e0FHtyJWI6Tz",
        "colab_type": "text"
      },
      "source": [
        "### *Real World Challenge*: Large difference between training and testing set accuracy"
      ]
    },
    {
      "cell_type": "code",
      "metadata": {
        "id": "9RAcVORCI63s",
        "colab_type": "code",
        "colab": {}
      },
      "source": [
        ""
      ],
      "execution_count": 0,
      "outputs": []
    }
  ]
}