{
 "cells": [
  {
   "cell_type": "markdown",
   "metadata": {},
   "source": [
    "## Linear Regression "
   ]
  },
  {
   "cell_type": "markdown",
   "metadata": {},
   "source": [
    "Open-book Quiz (Team)"
   ]
  },
  {
   "cell_type": "markdown",
   "metadata": {},
   "source": [
    "```\n",
    "Member #1 Name :             Student ID: \n",
    "Member #2 Name :             Student ID: \n",
    "Member #3 Name :             Student ID: \n",
    "\n",
    "```"
   ]
  },
  {
   "cell_type": "markdown",
   "metadata": {},
   "source": [
    "* Briefly describe the role or meaning of the code in each of the blanks below.\n",
    "* 아래의 각 빈칸에 윗 부분의 코드에 대한 역할 또는 의미를 간략하게 기술하세요"
   ]
  },
  {
   "cell_type": "code",
   "execution_count": 14,
   "metadata": {
    "colab": {
     "autoexec": {
      "startup": false,
      "wait_interval": 0
     }
    },
    "colab_type": "code",
    "id": "ObrlFsLKTkVJ"
   },
   "outputs": [],
   "source": [
    "import tensorflow as tf\n",
    "import numpy as np\n",
    "import matplotlib.pyplot as plt"
   ]
  },
  {
   "cell_type": "code",
   "execution_count": 2,
   "metadata": {
    "colab": {
     "autoexec": {
      "startup": false,
      "wait_interval": 0
     }
    },
    "colab_type": "code",
    "id": "m8a3CxTPTmGW"
   },
   "outputs": [],
   "source": [
    "x_train = [1, 2, 3, 4, 5]\n",
    "\n",
    "#y_train = [2, 4, 6, 8, 10]  \n",
    "y_train = [2+0.1+3, 4-0.3+3, 6+0.15+3, 8+0.1+3, 10-0.12+3]#  Add some noise "
   ]
  },
  {
   "cell_type": "markdown",
   "metadata": {},
   "source": [
    "```\n",
    ">>\n",
    "```"
   ]
  },
  {
   "cell_type": "code",
   "execution_count": 3,
   "metadata": {
    "colab": {
     "autoexec": {
      "startup": false,
      "wait_interval": 0
     }
    },
    "colab_type": "code",
    "id": "s2teBTHMTpvu"
   },
   "outputs": [],
   "source": [
    "w0 = 7.0;\n",
    "b0 = 5.0;\n",
    "\n",
    "W = tf.Variable(w0*tf.ones([1]), name='weight')\n",
    "b = tf.Variable(b0*tf.ones([1]), name='bias')"
   ]
  },
  {
   "cell_type": "markdown",
   "metadata": {},
   "source": [
    "```\n",
    ">>\n",
    "```"
   ]
  },
  {
   "cell_type": "code",
   "execution_count": 4,
   "metadata": {
    "colab": {
     "autoexec": {
      "startup": false,
      "wait_interval": 0
     }
    },
    "colab_type": "code",
    "id": "qc634hVjTshB"
   },
   "outputs": [],
   "source": [
    "hypothesis = x_train * W + b"
   ]
  },
  {
   "cell_type": "markdown",
   "metadata": {},
   "source": [
    "```\n",
    ">>\n",
    "```"
   ]
  },
  {
   "cell_type": "code",
   "execution_count": 5,
   "metadata": {
    "colab": {
     "autoexec": {
      "startup": false,
      "wait_interval": 0
     }
    },
    "colab_type": "code",
    "id": "5RPz8FVqTvaD"
   },
   "outputs": [],
   "source": [
    "cost = tf.reduce_mean(tf.square(hypothesis - y_train))"
   ]
  },
  {
   "cell_type": "markdown",
   "metadata": {},
   "source": [
    "```\n",
    ">>\n",
    "```"
   ]
  },
  {
   "cell_type": "code",
   "execution_count": 6,
   "metadata": {
    "colab": {
     "autoexec": {
      "startup": false,
      "wait_interval": 0
     }
    },
    "colab_type": "code",
    "id": "_hpMR9RZTwjC"
   },
   "outputs": [],
   "source": [
    "optimizer = tf.train.GradientDescentOptimizer(learning_rate=0.01)\n",
    "train = optimizer.minimize(cost)"
   ]
  },
  {
   "cell_type": "markdown",
   "metadata": {},
   "source": [
    "```\n",
    ">>\n",
    "```"
   ]
  },
  {
   "cell_type": "markdown",
   "metadata": {
    "colab_type": "text",
    "id": "Yv_IR1Wx44M6"
   },
   "source": [
    "**Launch the graph in a session**"
   ]
  },
  {
   "cell_type": "code",
   "execution_count": 7,
   "metadata": {
    "colab": {
     "autoexec": {
      "startup": false,
      "wait_interval": 0
     }
    },
    "colab_type": "code",
    "id": "LN795UxoTxtC"
   },
   "outputs": [],
   "source": [
    "sess = tf.Session()"
   ]
  },
  {
   "cell_type": "markdown",
   "metadata": {
    "colab_type": "text",
    "id": "vQAFU25K5BCw"
   },
   "source": [
    "**Initializes global variables in the graph.** "
   ]
  },
  {
   "cell_type": "code",
   "execution_count": 8,
   "metadata": {
    "colab": {
     "autoexec": {
      "startup": false,
      "wait_interval": 0
     }
    },
    "colab_type": "code",
    "id": "oA5AMENsTzDW"
   },
   "outputs": [],
   "source": [
    "sess.run(tf.global_variables_initializer())"
   ]
  },
  {
   "cell_type": "code",
   "execution_count": 9,
   "metadata": {
    "colab": {
     "autoexec": {
      "startup": false,
      "wait_interval": 0
     },
     "base_uri": "https://localhost:8080/",
     "height": 1835
    },
    "colab_type": "code",
    "executionInfo": {
     "elapsed": 819,
     "status": "ok",
     "timestamp": 1525064111713,
     "user": {
      "displayName": "Seung-Chan Kim",
      "photoUrl": "//lh6.googleusercontent.com/-GfSlgMh8OAM/AAAAAAAAAAI/AAAAAAAAAU8/pF51x30wES8/s50-c-k-no/photo.jpg",
      "userId": "103475295474044689411"
     },
     "user_tz": -540
    },
    "id": "Of8RSfAgT065",
    "outputId": "4dd86139-2df5-466b-8433-9ad9e71ba740"
   },
   "outputs": [],
   "source": [
    "vw=[] # weights\n",
    "vb=[] # bias"
   ]
  },
  {
   "cell_type": "markdown",
   "metadata": {},
   "source": [
    "```\n",
    ">>\n",
    "```"
   ]
  },
  {
   "cell_type": "code",
   "execution_count": 10,
   "metadata": {},
   "outputs": [
    {
     "name": "stdout",
     "output_type": "stream",
     "text": [
      "0 197.93013 5.779 4.65972\n",
      "100 0.059207488 1.8834463 3.4043543\n",
      "200 0.044419073 1.9157813 3.2876153\n",
      "300 0.03690723 1.9388266 3.2044141\n",
      "400 0.03309139 1.9552515 3.1451154\n",
      "500 0.031153206 1.9669574 3.1028528\n",
      "600 0.03016856 1.9753007 3.0727308\n",
      "700 0.02966839 1.9812474 3.0512617\n",
      "800 0.029414233 1.9854856 3.0359604\n",
      "900 0.029285207 1.9885062 3.025055\n",
      "1000 0.029219672 1.9906595 3.017281\n"
     ]
    }
   ],
   "source": [
    "for step in range(1001):\n",
    "    sess.run(train)\n",
    "    w1 = sess.run(W)[0] # slope\n",
    "    b1 = sess.run(b)[0] # bias\n",
    "    vw.append(w1)\n",
    "    vb.append(b1)\n",
    "    \n",
    "    if step % 100 == 0:\n",
    "        print(step, sess.run(cost), w1, b1)"
   ]
  },
  {
   "cell_type": "code",
   "execution_count": 11,
   "metadata": {},
   "outputs": [
    {
     "data": {
      "text/plain": [
       "[<matplotlib.lines.Line2D at 0x7f889c3f2240>]"
      ]
     },
     "execution_count": 11,
     "metadata": {},
     "output_type": "execute_result"
    },
    {
     "data": {
      "image/png": "[encoded data removed]",
      "text/plain": [
       "<Figure size 432x288 with 1 Axes>"
      ]
     },
     "metadata": {},
     "output_type": "display_data"
    }
   ],
   "source": [
    "plt.plot(vw)"
   ]
  },
  {
   "cell_type": "markdown",
   "metadata": {
    "colab_type": "text",
    "id": "gbt69NzVUGYw"
   },
   "source": [
    "**Complete training**"
   ]
  },
  {
   "cell_type": "code",
   "execution_count": 12,
   "metadata": {
    "colab": {
     "autoexec": {
      "startup": false,
      "wait_interval": 0
     },
     "base_uri": "https://localhost:8080/",
     "height": 53
    },
    "colab_type": "code",
    "executionInfo": {
     "elapsed": 591,
     "status": "ok",
     "timestamp": 1525064112331,
     "user": {
      "displayName": "Seung-Chan Kim",
      "photoUrl": "//lh6.googleusercontent.com/-GfSlgMh8OAM/AAAAAAAAAAI/AAAAAAAAAU8/pF51x30wES8/s50-c-k-no/photo.jpg",
      "userId": "103475295474044689411"
     },
     "user_tz": -540
    },
    "id": "2aMiqAyJUDbs",
    "outputId": "2fa00885-9e31-4268-ea2d-537eef890bf1"
   },
   "outputs": [
    {
     "name": "stdout",
     "output_type": "stream",
     "text": [
      "1.9906595 3.017281\n",
      "y = 1.9906595x + 3.017281\n"
     ]
    }
   ],
   "source": [
    "w1 = sess.run(W)[0] # slope\n",
    "b1 = sess.run(b)[0] # bias\n",
    "str1 = 'y = ' + str(w1) +'x + ' + str(b1)\n",
    "print(w1, b1)\n",
    "print(str1)"
   ]
  },
  {
   "cell_type": "markdown",
   "metadata": {},
   "source": [
    "```\n",
    ">>\n",
    "```"
   ]
  },
  {
   "cell_type": "code",
   "execution_count": 13,
   "metadata": {
    "colab": {
     "autoexec": {
      "startup": false,
      "wait_interval": 0
     },
     "base_uri": "https://localhost:8080/",
     "height": 380
    },
    "colab_type": "code",
    "executionInfo": {
     "elapsed": 525,
     "status": "ok",
     "timestamp": 1525064272505,
     "user": {
      "displayName": "Seung-Chan Kim",
      "photoUrl": "//lh6.googleusercontent.com/-GfSlgMh8OAM/AAAAAAAAAAI/AAAAAAAAAU8/pF51x30wES8/s50-c-k-no/photo.jpg",
      "userId": "103475295474044689411"
     },
     "user_tz": -540
    },
    "id": "ZFOmY19QUNKh",
    "outputId": "c45e2812-39d0-4966-c855-5493cad25e19"
   },
   "outputs": [
    {
     "data": {
      "text/plain": [
       "Text(0.5,1,'y = 1.9906595x + 3.017281')"
      ]
     },
     "execution_count": 13,
     "metadata": {},
     "output_type": "execute_result"
    },
    {
     "data": {
      "image/png": "[encoded data removed]",
      "text/plain": [
       "<Figure size 432x288 with 1 Axes>"
      ]
     },
     "metadata": {},
     "output_type": "display_data"
    }
   ],
   "source": [
    "plt.figure(1)\n",
    "plt.plot(x_train, y_train,'o')\n",
    "\n",
    "x1 = np.linspace(np.min(x_train)-1, np.max(x_train)+1)\n",
    "y1 = w1*x1 + b1\n",
    "plt.plot(x1, y1)\n",
    "plt.grid() \n",
    "plt.title(str1)"
   ]
  }
 ],
 "metadata": {
  "colab": {
   "collapsed_sections": [],
   "default_view": {},
   "name": "TF02-1-linear_regression.ipynb",
   "provenance": [],
   "version": "0.3.2",
   "views": {}
  },
  "kernelspec": {
   "display_name": "Py35_keras",
   "language": "python",
   "name": "py35_keras"
  },
  "language_info": {
   "codemirror_mode": {
    "name": "ipython",
    "version": 3
   },
   "file_extension": ".py",
   "mimetype": "text/x-python",
   "name": "python",
   "nbconvert_exporter": "python",
   "pygments_lexer": "ipython3",
   "version": "3.5.2"
  }
 },
 "nbformat": 4,
 "nbformat_minor": 1
}
